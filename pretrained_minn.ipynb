{
 "cells": [
  {
   "cell_type": "code",
   "execution_count": null,
   "metadata": {},
   "outputs": [],
   "source": [
    "from sklearn.model_selection import train_test_split\n",
    "import torch\n",
    "from torch.utils.data import DataLoader, Dataset\n",
    "import pandas as pd\n",
    "from sklearn.preprocessing import MinMaxScaler\n",
    "import torch.nn as nn\n",
    "from src.nn_model.amn_qp import *\n",
    "from src.utils.import_data import *\n",
    "from src.utils.import_GEM import *\n",
    "from src.utils.training import *\n",
    "from src.utils.plots import *\n",
    "import matplotlib.pyplot as plt\n"
   ]
  },
  {
   "cell_type": "code",
   "execution_count": null,
   "metadata": {},
   "outputs": [],
   "source": [
    "torch.manual_seed(10)\n",
    "\n",
    "# step 1: build/load and split model\n",
    "model = import_GEM(filename='GEMs/iAF1260_split_FBA_reduction.xml', split=True)\n",
    "\n",
    "# step 2: initialize object GEM which will have all the matrices as attributes\n",
    "model = GEM(model=model)\n",
    "\n",
    "# step 3: manually define the matrices for bounded fluxes and reference fluxes\n",
    "input_ub = ['R_EX_glc__D_e_rev']\n",
    "\n",
    "#reference = model.reactions # whole flux distribution\n",
    "reference = [\"R_BIOMASS_Ec_iAF1260_core_59p81M\"] # growth rate\n",
    "\n",
    "# step 4 : extract matrices Pin, Pred, S\n",
    "S, Pin, Pref = model.build_GEM_matrices(input_ub, reference)\n",
    "\n",
    "data = pd.read_csv('FBA_simulated_data_reservoir_filtered.csv').drop(columns=[\"ko_gene\"])\n",
    "#input training\n",
    "X = data[[\"R_EX_glc__D_e_rev_ub\"]]\n",
    "\n",
    "#target training\n",
    "y = data[reference]\n",
    "print(y.shape)\n",
    "\n",
    "#train and test split\n",
    "x_train, x_test, y_train, y_test = train_test_split(X.values.astype(np.float32), y.values.astype(np.float32), test_size=0.25, random_state=1)\n",
    "#print(y_test)'\n"
   ]
  },
  {
   "cell_type": "code",
   "execution_count": null,
   "metadata": {},
   "outputs": [],
   "source": [
    "from hydra import initialize, compose\n",
    "from omegaconf import OmegaConf\n",
    "\n",
    "# Initialize Hydra\n",
    "initialize(config_path=\"conf\", job_name=\"notebook\")\n",
    "\n",
    "# Compose and load the configuration\n",
    "cfg = compose(config_name=\"config\")\n"
   ]
  },
  {
   "cell_type": "code",
   "execution_count": 2,
   "metadata": {},
   "outputs": [
    {
     "data": {
      "text/plain": [
       "47"
      ]
     },
     "execution_count": 2,
     "metadata": {},
     "output_type": "execute_result"
    }
   ],
   "source": [
    "len(['R_GLCptspp', 'R_PGI_fwd', 'R_PFK', 'R_FBA_fwd', 'R_TPI_fwd', 'R_PGK_rev', 'R_GAPD_fwd', 'R_ENO_fwd', 'R_PGM_rev', 'R_PYK', 'R_PDH', 'R_G6PDH2r_fwd', 'R_PGL', 'R_GND', 'R_RPE_fwd', 'R_RPI_rev', 'R_TKT1_fwd', 'R_TALA_fwd', 'R_TKT2_fwd', 'R_CS', 'R_ACONTb_fwd', 'R_ACONTa_fwd', 'R_ICDHyr_fwd', 'R_SUCOAS_rev', 'R_AKGDH', 'R_SUCDi', 'R_FUM_fwd', 'R_MDH_fwd', 'R_PPC', 'R_ME2', 'R_ICL', 'R_MALS', 'R_ACKr_rev', 'R_PTAr_fwd', 'R_LDH_D_rev', 'R_ACALD_rev', 'R_ALCD2x_rev', 'R_EX_glc__D_e_rev', 'R_EX_o2_e_rev', 'R_EX_co2_e_fwd', 'R_EX_etoh_e', 'R_EX_ac_e', 'R_EX_lac__D_e', 'R_EX_succ_e', 'R_EX_pyr_e', 'R_EX_for_e', 'R_BIOMASS_Ec_iAF1260_core_59p81M'])"
   ]
  },
  {
   "cell_type": "code",
   "execution_count": 23,
   "metadata": {},
   "outputs": [],
   "source": [
    "device = \"cpu\"\n",
    "\n",
    "\n",
    "# create a torch dataset with this structure (X,Y,Vin)\n",
    "train_data = CustomTensorDataset(data=(x_train, y_train, x_train,))\n",
    "test_data  = CustomTensorDataset(data=(x_test, y_test, x_test))\n",
    "\n",
    "#create dataloader for batches\n",
    "train_loader = DataLoader(train_data, shuffle = True, batch_size=5)\n",
    "test_loader = DataLoader(test_data, batch_size=5)\n",
    "\n",
    "# initialize AMN_QP module\n",
    "amn_qp = AMN_QP(input_size=1, hidden_size=200, output_size=25, drop_rate=0.25, hyper_params=hyper_params, model=model).to(device)\n",
    "# initzialize mechanistic loss\n",
    "criterion = MechanisticLoss(model, l1_constant=1, hyper_params=hyper_params)\n",
    "\n",
    "# define optimizer for backpropagation\n",
    "optimizer = torch.optim.Adam(amn_qp.parameters(), lr=1e-3)\n",
    "\n",
    "\n"
   ]
  },
  {
   "cell_type": "code",
   "execution_count": 15,
   "metadata": {},
   "outputs": [
    {
     "ename": "AttributeError",
     "evalue": "'dict' object has no attribute 'model'",
     "output_type": "error",
     "traceback": [
      "\u001b[0;31m---------------------------------------------------------------------------\u001b[0m",
      "\u001b[0;31mAttributeError\u001b[0m                            Traceback (most recent call last)",
      "\u001b[0;32m/tmp/ipykernel_14868/4244523483.py\u001b[0m in \u001b[0;36m<module>\u001b[0;34m\u001b[0m\n\u001b[1;32m      4\u001b[0m \u001b[0mtrain_losses\u001b[0m \u001b[0;34m=\u001b[0m \u001b[0;34m[\u001b[0m\u001b[0;34m]\u001b[0m\u001b[0;34m\u001b[0m\u001b[0;34m\u001b[0m\u001b[0m\n\u001b[1;32m      5\u001b[0m \u001b[0;32mfor\u001b[0m \u001b[0mepoch\u001b[0m \u001b[0;32min\u001b[0m \u001b[0mrange\u001b[0m\u001b[0;34m(\u001b[0m\u001b[0mepochs\u001b[0m\u001b[0;34m)\u001b[0m\u001b[0;34m:\u001b[0m\u001b[0;34m\u001b[0m\u001b[0;34m\u001b[0m\u001b[0m\n\u001b[0;32m----> 6\u001b[0;31m     \u001b[0mtr_loss\u001b[0m \u001b[0;34m=\u001b[0m \u001b[0mtrain_step\u001b[0m\u001b[0;34m(\u001b[0m\u001b[0mamn_qp\u001b[0m\u001b[0;34m,\u001b[0m \u001b[0mcriterion\u001b[0m\u001b[0;34m,\u001b[0m \u001b[0moptimizer\u001b[0m\u001b[0;34m,\u001b[0m \u001b[0mtrain_loader\u001b[0m\u001b[0;34m)\u001b[0m\u001b[0;34m\u001b[0m\u001b[0;34m\u001b[0m\u001b[0m\n\u001b[0m\u001b[1;32m      7\u001b[0m     \u001b[0mtrain_losses\u001b[0m\u001b[0;34m.\u001b[0m\u001b[0mappend\u001b[0m\u001b[0;34m(\u001b[0m\u001b[0mtr_loss\u001b[0m\u001b[0;34m[\u001b[0m\u001b[0;34m'loss'\u001b[0m\u001b[0;34m]\u001b[0m\u001b[0;34m)\u001b[0m\u001b[0;34m\u001b[0m\u001b[0;34m\u001b[0m\u001b[0m\n\u001b[1;32m      8\u001b[0m     \u001b[0mprint\u001b[0m\u001b[0;34m(\u001b[0m\u001b[0mtr_loss\u001b[0m\u001b[0;34m[\u001b[0m\u001b[0;34m'losses'\u001b[0m\u001b[0;34m]\u001b[0m\u001b[0;34m)\u001b[0m\u001b[0;34m\u001b[0m\u001b[0;34m\u001b[0m\u001b[0m\n",
      "\u001b[0;32m/workspaces/amn_fba/src/utils/training.py\u001b[0m in \u001b[0;36mtrain_step\u001b[0;34m(model, criterion, optimizer, train_loader, loss_balancer, device)\u001b[0m\n\u001b[1;32m     25\u001b[0m         \u001b[0mx\u001b[0m\u001b[0;34m,\u001b[0m \u001b[0mVref\u001b[0m\u001b[0;34m,\u001b[0m \u001b[0mVin\u001b[0m \u001b[0;34m=\u001b[0m \u001b[0mx\u001b[0m\u001b[0;34m.\u001b[0m\u001b[0mto\u001b[0m\u001b[0;34m(\u001b[0m\u001b[0mdevice\u001b[0m\u001b[0;34m)\u001b[0m\u001b[0;34m,\u001b[0m \u001b[0mVref\u001b[0m\u001b[0;34m.\u001b[0m\u001b[0mto\u001b[0m\u001b[0;34m(\u001b[0m\u001b[0mdevice\u001b[0m\u001b[0;34m)\u001b[0m\u001b[0;34m,\u001b[0m \u001b[0mVin\u001b[0m\u001b[0;34m.\u001b[0m\u001b[0mto\u001b[0m\u001b[0;34m(\u001b[0m\u001b[0mdevice\u001b[0m\u001b[0;34m)\u001b[0m\u001b[0;34m\u001b[0m\u001b[0;34m\u001b[0m\u001b[0m\n\u001b[1;32m     26\u001b[0m         \u001b[0;31m# V = Vref predicted\u001b[0m\u001b[0;34m\u001b[0m\u001b[0;34m\u001b[0m\u001b[0;34m\u001b[0m\u001b[0m\n\u001b[0;32m---> 27\u001b[0;31m         \u001b[0mV\u001b[0m \u001b[0;34m=\u001b[0m \u001b[0mmodel\u001b[0m\u001b[0;34m(\u001b[0m\u001b[0mx\u001b[0m\u001b[0;34m,\u001b[0m \u001b[0mVref\u001b[0m\u001b[0;34m,\u001b[0m \u001b[0mVin\u001b[0m\u001b[0;34m)\u001b[0m\u001b[0;34m\u001b[0m\u001b[0;34m\u001b[0m\u001b[0m\n\u001b[0m\u001b[1;32m     28\u001b[0m         \u001b[0;32mfor\u001b[0m \u001b[0mi\u001b[0m \u001b[0;32min\u001b[0m \u001b[0mrange\u001b[0m\u001b[0;34m(\u001b[0m\u001b[0mV\u001b[0m\u001b[0;34m.\u001b[0m\u001b[0msize\u001b[0m\u001b[0;34m(\u001b[0m\u001b[0;36m0\u001b[0m\u001b[0;34m)\u001b[0m\u001b[0;34m)\u001b[0m\u001b[0;34m:\u001b[0m\u001b[0;34m\u001b[0m\u001b[0;34m\u001b[0m\u001b[0m\n\u001b[1;32m     29\u001b[0m             \u001b[0mVref_pred\u001b[0m\u001b[0;34m.\u001b[0m\u001b[0mappend\u001b[0m\u001b[0;34m(\u001b[0m\u001b[0mV\u001b[0m\u001b[0;34m[\u001b[0m\u001b[0mi\u001b[0m\u001b[0;34m]\u001b[0m\u001b[0;34m.\u001b[0m\u001b[0mtolist\u001b[0m\u001b[0;34m(\u001b[0m\u001b[0;34m)\u001b[0m\u001b[0;34m)\u001b[0m\u001b[0;34m\u001b[0m\u001b[0;34m\u001b[0m\u001b[0m\n",
      "\u001b[0;32m/opt/conda/lib/python3.7/site-packages/torch/nn/modules/module.py\u001b[0m in \u001b[0;36m_call_impl\u001b[0;34m(self, *input, **kwargs)\u001b[0m\n\u001b[1;32m   1128\u001b[0m         if not (self._backward_hooks or self._forward_hooks or self._forward_pre_hooks or _global_backward_hooks\n\u001b[1;32m   1129\u001b[0m                 or _global_forward_hooks or _global_forward_pre_hooks):\n\u001b[0;32m-> 1130\u001b[0;31m             \u001b[0;32mreturn\u001b[0m \u001b[0mforward_call\u001b[0m\u001b[0;34m(\u001b[0m\u001b[0;34m*\u001b[0m\u001b[0minput\u001b[0m\u001b[0;34m,\u001b[0m \u001b[0;34m**\u001b[0m\u001b[0mkwargs\u001b[0m\u001b[0;34m)\u001b[0m\u001b[0;34m\u001b[0m\u001b[0;34m\u001b[0m\u001b[0m\n\u001b[0m\u001b[1;32m   1131\u001b[0m         \u001b[0;31m# Do not call functions when jit is used\u001b[0m\u001b[0;34m\u001b[0m\u001b[0;34m\u001b[0m\u001b[0;34m\u001b[0m\u001b[0m\n\u001b[1;32m   1132\u001b[0m         \u001b[0mfull_backward_hooks\u001b[0m\u001b[0;34m,\u001b[0m \u001b[0mnon_full_backward_hooks\u001b[0m \u001b[0;34m=\u001b[0m \u001b[0;34m[\u001b[0m\u001b[0;34m]\u001b[0m\u001b[0;34m,\u001b[0m \u001b[0;34m[\u001b[0m\u001b[0;34m]\u001b[0m\u001b[0;34m\u001b[0m\u001b[0;34m\u001b[0m\u001b[0m\n",
      "\u001b[0;32m/workspaces/amn_fba/src/nn_model/amn_qp.py\u001b[0m in \u001b[0;36mforward\u001b[0;34m(self, input, Vref, Vin)\u001b[0m\n\u001b[1;32m    154\u001b[0m         \u001b[0mV0\u001b[0m \u001b[0;34m=\u001b[0m \u001b[0mself\u001b[0m\u001b[0;34m.\u001b[0m\u001b[0mlayers\u001b[0m\u001b[0;34m(\u001b[0m\u001b[0minput\u001b[0m\u001b[0;34m)\u001b[0m\u001b[0;34m\u001b[0m\u001b[0;34m\u001b[0m\u001b[0m\n\u001b[1;32m    155\u001b[0m \u001b[0;34m\u001b[0m\u001b[0m\n\u001b[0;32m--> 156\u001b[0;31m         \u001b[0;32mif\u001b[0m \u001b[0mself\u001b[0m\u001b[0;34m.\u001b[0m\u001b[0mhyper_params\u001b[0m\u001b[0;34m.\u001b[0m\u001b[0mmodel\u001b[0m\u001b[0;34m.\u001b[0m\u001b[0mmodel_type\u001b[0m \u001b[0;34m==\u001b[0m \u001b[0;34m'AMN'\u001b[0m\u001b[0;34m:\u001b[0m\u001b[0;34m\u001b[0m\u001b[0;34m\u001b[0m\u001b[0m\n\u001b[0m\u001b[1;32m    157\u001b[0m             Vout = Gradientdescent_QP(V0, Vref, self.model.Pref, self.model.Pin, Vin, self.model.S, \n\u001b[1;32m    158\u001b[0m                                       \u001b[0mlr\u001b[0m\u001b[0;34m=\u001b[0m\u001b[0mself\u001b[0m\u001b[0;34m.\u001b[0m\u001b[0mhyper_params\u001b[0m\u001b[0;34m.\u001b[0m\u001b[0mmodel\u001b[0m\u001b[0;34m.\u001b[0m\u001b[0mqp_lr\u001b[0m\u001b[0;34m,\u001b[0m\u001b[0;34m\u001b[0m\u001b[0;34m\u001b[0m\u001b[0m\n",
      "\u001b[0;31mAttributeError\u001b[0m: 'dict' object has no attribute 'model'"
     ]
    }
   ],
   "source": [
    "# train step for each epoch\n",
    "epochs = 2\n",
    "\n",
    "train_losses = []\n",
    "for epoch in range(epochs):\n",
    "    tr_loss = train_step(amn_qp, criterion, optimizer, train_loader)\n",
    "    train_losses.append(tr_loss['loss'])\n",
    "    print(tr_loss['losses'])\n",
    "\n",
    "Vref_pred = np.matmul(np.array(tr_loss['Vref_pred']), model.Pref.T) \n",
    "Vref_true = tr_loss['Vref_true']  \n",
    "# Create a list of epochs or iterations for the x-axis\n",
    "epochs = list(range(1, len(train_losses) + 1))\n",
    "\n",
    "# Plot the training loss\n",
    "plt.plot(epochs, train_losses, label='Train Loss', color='blue')\n",
    "plt.xlabel('Epochs or Iterations')\n",
    "plt.ylabel('Loss')\n",
    "plt.title('Training Loss Over Time')\n",
    "plt.legend()\n",
    "plt.grid(True)\n",
    "plt.show()\n",
    "\n",
    "R2 = R_squared(Vref_true, Vref_pred, mode='R', plot=True)\n",
    "print(R2)\n"
   ]
  },
  {
   "cell_type": "code",
   "execution_count": null,
   "metadata": {},
   "outputs": [],
   "source": [
    "te_loss = test_step(amn_qp, criterion, test_loader)\n",
    "\n",
    "Vref_pred_te = np.matmul(np.array(te_loss['Vref_pred']), model.Pref.T)  \n",
    "Vref_true_te = te_loss['Vref_true'] \n",
    "\n",
    "Q2 = R_squared(Vref_true_te, Vref_pred_te, mode='Q', plot=True)\n",
    "print(Q2)"
   ]
  }
 ],
 "metadata": {
  "kernelspec": {
   "display_name": "base",
   "language": "python",
   "name": "python3"
  },
  "language_info": {
   "codemirror_mode": {
    "name": "ipython",
    "version": 3
   },
   "file_extension": ".py",
   "mimetype": "text/x-python",
   "name": "python",
   "nbconvert_exporter": "python",
   "pygments_lexer": "ipython3",
   "version": "3.10.14"
  }
 },
 "nbformat": 4,
 "nbformat_minor": 2
}
